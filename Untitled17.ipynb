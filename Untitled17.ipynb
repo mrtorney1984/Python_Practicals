{
  "nbformat": 4,
  "nbformat_minor": 0,
  "metadata": {
    "colab": {
      "provenance": [],
      "authorship_tag": "ABX9TyN1cJuvP0+Ydx49nkFP3OGJ",
      "include_colab_link": true
    },
    "kernelspec": {
      "name": "python3",
      "display_name": "Python 3"
    },
    "language_info": {
      "name": "python"
    }
  },
  "cells": [
    {
      "cell_type": "markdown",
      "metadata": {
        "id": "view-in-github",
        "colab_type": "text"
      },
      "source": [
        "<a href=\"https://colab.research.google.com/github/mrtorney1984/Python_Practicals/blob/main/Untitled17.ipynb\" target=\"_parent\"><img src=\"https://colab.research.google.com/assets/colab-badge.svg\" alt=\"Open In Colab\"/></a>"
      ]
    },
    {
      "cell_type": "code",
      "source": [
        "Practical No 27"
      ],
      "metadata": {
        "id": "HKr2uFliGcoS"
      },
      "execution_count": null,
      "outputs": []
    },
    {
      "cell_type": "markdown",
      "source": [],
      "metadata": {
        "id": "YucJtIzDGa1i"
      }
    },
    {
      "cell_type": "code",
      "execution_count": null,
      "metadata": {
        "id": "rvnBA44qGVuB"
      },
      "outputs": [],
      "source": [
        "# prompt: write a python GUI program  to import Tkinter package and create a window and set its title\n",
        "\n",
        "import tkinter as tk\n",
        "\n",
        "# Create the main window\n",
        "window = tk.Tk()\n",
        "window.title(\"My First GUI Program\")  # Set the title of the window\n",
        "\n",
        "# Keep the window open until it is closed manually\n",
        "window.mainloop()\n"
      ]
    },
    {
      "cell_type": "markdown",
      "source": [
        "Practical No.28"
      ],
      "metadata": {
        "id": "0Rgp8PSlGgiK"
      }
    },
    {
      "cell_type": "code",
      "source": [
        "# prompt: Write a python GUI program that adds Labels and Buttons to the Tkinter Windows\n",
        "\n",
        "import tkinter as tk\n",
        "\n",
        "# Create the main window\n",
        "window = tk.Tk()\n",
        "window.title(\"My First GUI Program\")  # Set the title of the window\n",
        "\n",
        "# Create a label\n",
        "label1 = tk.Label(window, text=\"Hello, Tkinter!\")\n",
        "label1.pack(pady=20)  # Add some padding around the label\n",
        "\n",
        "label2 = tk.Label(window, text=\"This is another label.\")\n",
        "label2.pack()\n",
        "\n",
        "\n",
        "# Create a button\n",
        "def button_click():\n",
        "    print(\"Button clicked!\")\n",
        "\n",
        "button1 = tk.Button(window, text=\"Click Me!\", command=button_click)\n",
        "button1.pack(pady=10)\n",
        "\n",
        "\n",
        "# Keep the window open until it is closed manually\n",
        "window.mainloop()\n"
      ],
      "metadata": {
        "id": "JeRwoNnfGilC"
      },
      "execution_count": null,
      "outputs": []
    },
    {
      "cell_type": "code",
      "source": [
        "# Write a python GUI program using Tkinter that creates a checkButton\n",
        "\n",
        "import tkinter as tk\n",
        "\n",
        "# Create the main window\n",
        "window = tk.Tk()\n",
        "window.title(\"Checkbutton Example\")\n",
        "\n",
        "# Define a function to be called when the checkbutton is toggled\n",
        "def checkbutton_toggled():\n",
        "    if check_var.get():\n",
        "        print(\"Checkbutton is checked\")\n",
        "    else:\n",
        "        print(\"Checkbutton is unchecked\")\n",
        "\n",
        "# Create a Tkinter variable to store the checkbutton state\n",
        "check_var = tk.BooleanVar()\n",
        "\n",
        "# Create the checkbutton\n",
        "checkbutton = tk.Checkbutton(window, text=\"My Checkbutton\", variable=check_var, command=checkbutton_toggled)\n",
        "checkbutton.pack(pady=20)\n",
        "\n",
        "# Keep the window open until it is closed manually\n",
        "window.mainloop()\n"
      ],
      "metadata": {
        "id": "RVCFyrgvG6wD"
      },
      "execution_count": null,
      "outputs": []
    },
    {
      "cell_type": "code",
      "source": [
        "# Write a python GUI program using Tkinter that creates a Radio Button\n",
        "\n",
        "import tkinter as tk\n",
        "\n",
        "# Create the main window\n",
        "window = tk.Tk()\n",
        "window.title(\"Radiobutton Example\")\n",
        "\n",
        "# Define a function to be called when a radiobutton is selected\n",
        "def radiobutton_selected():\n",
        "    print(f\"Selected option: {selected_option.get()}\")\n",
        "\n",
        "# Create a Tkinter variable to store the selected option\n",
        "selected_option = tk.StringVar(value=\"Option 1\")  # Set the default value\n",
        "\n",
        "# Create the radiobuttons\n",
        "radiobutton1 = tk.Radiobutton(window, text=\"Option 1\", variable=selected_option, value=\"Option 1\", command=radiobutton_selected)\n",
        "radiobutton1.pack(pady=10)\n",
        "\n",
        "radiobutton2 = tk.Radiobutton(window, text=\"Option 2\", variable=selected_option, value=\"Option 2\", command=radiobutton_selected)\n",
        "radiobutton2.pack()\n",
        "\n",
        "radiobutton3 = tk.Radiobutton(window, text=\"Option 3\", variable=selected_option, value=\"Option 3\", command=radiobutton_selected)\n",
        "radiobutton3.pack()\n",
        "\n",
        "\n",
        "# Keep the window open until it is closed manually\n",
        "window.mainloop()\n"
      ],
      "metadata": {
        "id": "jh-Ybmf8HLnE"
      },
      "execution_count": null,
      "outputs": []
    },
    {
      "cell_type": "code",
      "source": [
        "# Write a python GUI program using Tkinter that creates a Menu\n",
        "\n",
        "import tkinter as tk\n",
        "\n",
        "# Create the main window\n",
        "window = tk.Tk()\n",
        "window.title(\"Menu Example\")\n",
        "\n",
        "# Create a menu bar\n",
        "menu_bar = tk.Menu(window)\n",
        "window.config(menu=menu_bar)\n",
        "\n",
        "# Create a file menu\n",
        "file_menu = tk.Menu(menu_bar, tearoff=0)\n",
        "file_menu.add_command(label=\"New\")\n",
        "file_menu.add_command(label=\"Open\")\n",
        "file_menu.add_separator()\n",
        "file_menu.add_command(label=\"Exit\", command=window.quit)\n",
        "menu_bar.add_cascade(label=\"File\", menu=file_menu)\n",
        "\n",
        "# Create an edit menu\n",
        "edit_menu = tk.Menu(menu_bar, tearoff=0)\n",
        "edit_menu.add_command(label=\"Cut\")\n",
        "edit_menu.add_command(label=\"Copy\")\n",
        "edit_menu.add_command(label=\"Paste\")\n",
        "menu_bar.add_cascade(label=\"Edit\", menu=edit_menu)\n",
        "\n",
        "\n",
        "# Keep the window open until it is closed manually\n",
        "window.mainloop()\n"
      ],
      "metadata": {
        "id": "zfX_e2PfHScq"
      },
      "execution_count": null,
      "outputs": []
    },
    {
      "cell_type": "markdown",
      "source": [
        "Practical 29"
      ],
      "metadata": {
        "id": "5O_JzhmqHbO6"
      }
    },
    {
      "cell_type": "code",
      "source": [
        "#  Write a program to create a connection between database and python\n",
        "\n",
        "import sqlite3\n",
        "import tkinter as tk\n",
        "from tkinter import messagebox\n",
        "\n",
        "def connect_to_db():\n",
        "    try:\n",
        "        conn = sqlite3.connect('mydatabase.db')  # Replace 'mydatabase.db' with your database file\n",
        "        cursor = conn.cursor()\n",
        "        messagebox.showinfo(\"Success\", \"Connected to the database successfully!\")\n",
        "        conn.close()\n",
        "    except sqlite3.Error as e:\n",
        "        messagebox.showerror(\"Error\", f\"Error connecting to the database: {e}\")\n",
        "\n",
        "# Create the main window\n",
        "window = tk.Tk()\n",
        "window.title(\"Database Connection\")\n",
        "\n",
        "# Create a button to connect\n",
        "connect_button = tk.Button(window, text=\"Connect to Database\", command=connect_to_db)\n",
        "connect_button.pack(pady=20)\n",
        "\n",
        "\n",
        "window.mainloop()\n"
      ],
      "metadata": {
        "id": "u5Q2DvP_He_L"
      },
      "execution_count": null,
      "outputs": []
    },
    {
      "cell_type": "markdown",
      "source": [],
      "metadata": {
        "id": "eY0KtnaAHmWi"
      }
    },
    {
      "cell_type": "code",
      "source": [
        "#  Write a program to create a connect python with PostgreSQL Database\n",
        "\n",
        "import psycopg2\n",
        "import tkinter as tk\n",
        "from tkinter import messagebox\n",
        "\n",
        "def connect_to_db():\n",
        "    try:\n",
        "        conn = psycopg2.connect(\n",
        "            host=\"your_host\",\n",
        "            database=\"your_database\",\n",
        "            user=\"your_user\",\n",
        "            password=\"your_password\"\n",
        "        )\n",
        "        cursor = conn.cursor()\n",
        "        messagebox.showinfo(\"Success\", \"Connected to PostgreSQL successfully!\")\n",
        "        conn.close()\n",
        "    except psycopg2.Error as e:\n",
        "        messagebox.showerror(\"Error\", f\"Error connecting to PostgreSQL: {e}\")\n",
        "\n",
        "# Create the main window\n",
        "window = tk.Tk()\n",
        "window.title(\"PostgreSQL Connection\")\n",
        "\n",
        "# Create a button to connect\n",
        "connect_button = tk.Button(window, text=\"Connect to PostgreSQL\", command=connect_to_db)\n",
        "connect_button.pack(pady=20)\n",
        "\n",
        "window.mainloop()\n"
      ],
      "metadata": {
        "id": "fzc5WM9_Hz-S"
      },
      "execution_count": null,
      "outputs": []
    },
    {
      "cell_type": "markdown",
      "source": [
        "Practical 30"
      ],
      "metadata": {
        "id": "-gFVL9_UH-Sq"
      }
    },
    {
      "cell_type": "code",
      "source": [
        "# prompt: Write a program to select Records from the Database Table and Display the Result\n",
        "\n",
        "import tkinter as tk\n",
        "from tkinter import ttk\n",
        "import sqlite3\n",
        "from tkinter import messagebox\n",
        "\n",
        "def fetch_data():\n",
        "    try:\n",
        "        conn = sqlite3.connect('mydatabase.db')\n",
        "        cursor = conn.cursor()\n",
        "\n",
        "        # Replace 'your_table_name' with the actual name of your table\n",
        "        cursor.execute(\"SELECT * FROM your_table_name\")\n",
        "        records = cursor.fetchall()\n",
        "\n",
        "        # Clear existing data in the Treeview\n",
        "        for item in tree.get_children():\n",
        "            tree.delete(item)\n",
        "\n",
        "        # Insert fetched records into the Treeview\n",
        "        for record in records:\n",
        "            tree.insert(\"\", \"end\", values=record)\n",
        "\n",
        "        conn.close()\n",
        "\n",
        "    except sqlite3.Error as e:\n",
        "        messagebox.showerror(\"Error\", f\"Error fetching data: {e}\")\n",
        "\n",
        "\n",
        "# Create the main window\n",
        "window = tk.Tk()\n",
        "window.title(\"Database Records\")\n",
        "\n",
        "# Create a Treeview widget\n",
        "tree = ttk.Treeview(window, columns=(\"Column1\", \"Column2\", \"Column3\"), show=\"headings\")  # Replace with your column names\n",
        "\n",
        "# Define column headings\n",
        "tree.heading(\"Column1\", text=\"Column 1\")\n",
        "tree.heading(\"Column2\", text=\"Column 2\")\n",
        "tree.heading(\"Column3\", text=\"Column 3\") #Add more headings as needed\n",
        "\n",
        "\n",
        "tree.pack(pady=20)\n",
        "\n",
        "\n",
        "# Create a button to fetch data\n",
        "fetch_button = tk.Button(window, text=\"Fetch Data\", command=fetch_data)\n",
        "fetch_button.pack()\n",
        "\n",
        "window.mainloop()\n"
      ],
      "metadata": {
        "id": "QXyTiZPCIBxC"
      },
      "execution_count": null,
      "outputs": []
    },
    {
      "cell_type": "code",
      "source": [
        "# : Write a python program to create database in MySQL\n",
        "\n",
        "import mysql.connector\n",
        "\n",
        "def create_database(db_name):\n",
        "    try:\n",
        "        mydb = mysql.connector.connect(\n",
        "            host=\"localhost\",\n",
        "            user=\"yourusername\",\n",
        "            password=\"yourpassword\"\n",
        "        )\n",
        "        mycursor = mydb.cursor()\n",
        "        mycursor.execute(f\"CREATE DATABASE {db_name}\")\n",
        "        print(f\"Database '{db_name}' created successfully\")\n",
        "    except mysql.connector.Error as err:\n",
        "        print(f\"Error creating database: {err}\")\n",
        "    finally:\n",
        "        if mydb.is_connected():\n",
        "            mycursor.close()\n",
        "            mydb.close()\n",
        "            print(\"MySQL connection is closed\")\n",
        "\n",
        "# Example usage\n",
        "create_database(\"mydatabase\")\n"
      ],
      "metadata": {
        "id": "pWCPJ3GIISr6"
      },
      "execution_count": null,
      "outputs": []
    },
    {
      "cell_type": "code",
      "source": [
        "#  Write a python program to create Table in MySQL database\n",
        "\n",
        "import mysql.connector\n",
        "\n",
        "def create_table(db_name, table_name, columns):\n",
        "    \"\"\"\n",
        "    Creates a table in a MySQL database.\n",
        "\n",
        "    Args:\n",
        "        db_name: The name of the database.\n",
        "        table_name: The name of the table to create.\n",
        "        columns: A list of tuples, where each tuple represents a column\n",
        "                 and contains (column_name, data_type).\n",
        "    \"\"\"\n",
        "\n",
        "    try:\n",
        "        mydb = mysql.connector.connect(\n",
        "            host=\"localhost\",  # Replace with your MySQL host\n",
        "            user=\"yourusername\",  # Replace with your MySQL username\n",
        "            password=\"yourpassword\",  # Replace with your MySQL password\n",
        "            database=db_name\n",
        "        )\n",
        "        mycursor = mydb.cursor()\n",
        "\n",
        "        # Construct the CREATE TABLE query\n",
        "        column_definitions = \", \".join(f\"{name} {data_type}\" for name, data_type in columns)\n",
        "        query = f\"CREATE TABLE {table_name} ({column_definitions})\"\n",
        "\n",
        "        mycursor.execute(query)\n",
        "        print(f\"Table '{table_name}' created successfully in database '{db_name}'\")\n",
        "\n",
        "\n",
        "    except mysql.connector.Error as err:\n",
        "        print(f\"Error creating table: {err}\")\n",
        "    finally:\n",
        "        if mydb.is_connected():\n",
        "            mycursor.close()\n",
        "            mydb.close()\n",
        "            print(\"MySQL connection is closed\")\n",
        "\n",
        "# Example usage:\n",
        "db_name = \"mydatabase\"  # Replace with your database name\n",
        "table_name = \"mytable\" # Replace with your table name\n",
        "columns = [\n",
        "    (\"id\", \"INT AUTO_INCREMENT PRIMARY KEY\"),\n",
        "    (\"name\", \"VARCHAR(255)\"),\n",
        "    (\"age\", \"INT\")\n",
        "]\n",
        "create_table(db_name, table_name, columns)\n"
      ],
      "metadata": {
        "id": "rd1FhVPmIjfK"
      },
      "execution_count": null,
      "outputs": []
    },
    {
      "cell_type": "code",
      "source": [
        "# Write a python program to insert record into a table in MySQL database\n",
        "\n",
        "import mysql.connector\n",
        "\n",
        "def insert_record(db_name, table_name, data):\n",
        "    \"\"\"\n",
        "    Inserts a record into a MySQL table.\n",
        "\n",
        "    Args:\n",
        "        db_name: The name of the database.\n",
        "        table_name: The name of the table.\n",
        "        data: A dictionary where keys are column names and values are the data to insert.\n",
        "    \"\"\"\n",
        "    try:\n",
        "        mydb = mysql.connector.connect(\n",
        "            host=\"localhost\",  # Replace with your MySQL host\n",
        "            user=\"yourusername\",  # Replace with your MySQL username\n",
        "            password=\"yourpassword\",  # Replace with your MySQL password\n",
        "            database=db_name\n",
        "        )\n",
        "        mycursor = mydb.cursor()\n",
        "\n",
        "        # Construct the INSERT INTO query\n",
        "        columns = \", \".join(data.keys())\n",
        "        placeholders = \", \".join([\"%s\"] * len(data))\n",
        "        query = f\"INSERT INTO {table_name} ({columns}) VALUES ({placeholders})\"\n",
        "        values = tuple(data.values())\n",
        "\n",
        "        mycursor.execute(query, values)\n",
        "        mydb.commit()\n",
        "        print(f\"Record inserted successfully into table '{table_name}'\")\n",
        "\n",
        "    except mysql.connector.Error as err:\n",
        "        print(f\"Error inserting record: {err}\")\n",
        "    finally:\n",
        "        if mydb.is_connected():\n",
        "            mycursor.close()\n",
        "            mydb.close()\n",
        "            print(\"MySQL connection is closed\")\n",
        "\n",
        "# Example usage:\n",
        "db_name = \"mydatabase\"  # Replace with your database name\n",
        "table_name = \"mytable\"  # Replace with your table name\n",
        "data = {\n",
        "    \"name\": \"John Doe\",\n",
        "    \"age\": 30\n",
        "}\n",
        "insert_record(db_name, table_name, data)\n"
      ],
      "metadata": {
        "id": "LIhGK6STIu8q"
      },
      "execution_count": null,
      "outputs": []
    },
    {
      "cell_type": "code",
      "source": [
        "#  Write a python program to delete record into a table in MySQL database\n",
        "\n",
        "def delete_record(db_name, table_name, condition):\n",
        "    \"\"\"\n",
        "    Deletes a record from a MySQL table based on a given condition.\n",
        "\n",
        "    Args:\n",
        "        db_name: The name of the database.\n",
        "        table_name: The name of the table.\n",
        "        condition: The WHERE clause condition for deleting the record (e.g., \"id = 1\").\n",
        "    \"\"\"\n",
        "    try:\n",
        "        mydb = mysql.connector.connect(\n",
        "            host=\"localhost\",  # Replace with your MySQL host\n",
        "            user=\"yourusername\",  # Replace with your MySQL username\n",
        "            password=\"yourpassword\",  # Replace with your MySQL password\n",
        "            database=db_name\n",
        "        )\n",
        "        mycursor = mydb.cursor()\n",
        "\n",
        "        # Construct the DELETE query\n",
        "        query = f\"DELETE FROM {table_name} WHERE {condition}\"\n",
        "\n",
        "        mycursor.execute(query)\n",
        "        mydb.commit()\n",
        "        print(f\"{mycursor.rowcount} record(s) deleted successfully from table '{table_name}'\")\n",
        "\n",
        "    except mysql.connector.Error as err:\n",
        "        print(f\"Error deleting record: {err}\")\n",
        "    finally:\n",
        "        if mydb.is_connected():\n",
        "            mycursor.close()\n",
        "            mydb.close()\n",
        "            print(\"MySQL connection is closed\")\n",
        "\n",
        "# Example usage:\n",
        "db_name = \"mydatabase\"  # Replace with your database name\n",
        "table_name = \"mytable\"  # Replace with your table name\n",
        "condition = \"id = 1\"  # Replace with your condition\n",
        "delete_record(db_name, table_name, condition)\n"
      ],
      "metadata": {
        "id": "JTl31j5rI-ea"
      },
      "execution_count": null,
      "outputs": []
    },
    {
      "cell_type": "code",
      "source": [
        "# Write a python program to Update record into a table in MySQL database\n",
        "\n",
        "import mysql.connector\n",
        "\n",
        "def update_record(db_name, table_name, updates, condition):\n",
        "    \"\"\"\n",
        "    Updates records in a MySQL table based on a given condition.\n",
        "\n",
        "    Args:\n",
        "        db_name: The name of the database.\n",
        "        table_name: The name of the table.\n",
        "        updates: A dictionary where keys are column names and values are the new values.\n",
        "        condition: The WHERE clause condition for updating records (e.g., \"id = 1\").\n",
        "    \"\"\"\n",
        "    try:\n",
        "        mydb = mysql.connector.connect(\n",
        "            host=\"localhost\",  # Replace with your MySQL host\n",
        "            user=\"yourusername\",  # Replace with your MySQL username\n",
        "            password=\"yourpassword\",  # Replace with your MySQL password\n",
        "            database=db_name\n",
        "        )\n",
        "        mycursor = mydb.cursor()\n",
        "\n",
        "        # Construct the UPDATE query\n",
        "        update_set = \", \".join(f\"{key} = %s\" for key in updates)\n",
        "        query = f\"UPDATE {table_name} SET {update_set} WHERE {condition}\"\n",
        "        values = tuple(updates.values())\n",
        "\n",
        "        mycursor.execute(query, values)\n",
        "        mydb.commit()\n",
        "        print(f\"{mycursor.rowcount} record(s) updated successfully in table '{table_name}'\")\n",
        "\n",
        "    except mysql.connector.Error as err:\n",
        "        print(f\"Error updating record: {err}\")\n",
        "    finally:\n",
        "        if mydb.is_connected():\n",
        "            mycursor.close()\n",
        "            mydb.close()\n",
        "            print(\"MySQL connection is closed\")\n",
        "\n",
        "# Example usage:\n",
        "db_name = \"mydatabase\"  # Replace with your database name\n",
        "table_name = \"mytable\"  # Replace with your table name\n",
        "updates = {\n",
        "    \"name\": \"Updated Name\",\n",
        "    \"age\": 35\n",
        "}\n",
        "condition = \"id = 2\"  # Replace with the condition to identify the record(s) to update\n",
        "update_record(db_name, table_name, updates, condition)\n"
      ],
      "metadata": {
        "id": "iW9YaudRJG8K"
      },
      "execution_count": null,
      "outputs": []
    }
  ]
}